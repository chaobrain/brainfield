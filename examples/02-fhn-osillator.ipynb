{
 "cells": [
  {
   "metadata": {
    "collapsed": true
   },
   "cell_type": "markdown",
   "source": [
    "# The Fitz-Hugh Nagumo oscillator\n",
    "\n",
    "The Fitz-Hugh Nagumo (FHN) model is a simplified representation of neuronal activity, capturing essential features of excitability and oscillations. It consists of two coupled differential equations representing a fast activator variable and a slow recovery variable. The model is often used to study the dynamics of single neurons or neural populations.\n"
   ],
   "id": "a4c4a59c9cb55b01"
  },
  {
   "metadata": {
    "ExecuteTime": {
     "end_time": "2025-09-22T12:57:32.845381Z",
     "start_time": "2025-09-22T12:57:32.841861Z"
    }
   },
   "cell_type": "code",
   "source": [
    "import brainstate\n",
    "import braintools\n",
    "import brainunit as u\n",
    "import matplotlib.pyplot as plt\n",
    "import numpy as np\n",
    "\n",
    "import brainmass"
   ],
   "id": "1fd866befa554eb0",
   "outputs": [],
   "execution_count": 28
  },
  {
   "metadata": {
    "ExecuteTime": {
     "end_time": "2025-09-22T12:57:32.863949Z",
     "start_time": "2025-09-22T12:57:32.860404Z"
    }
   },
   "cell_type": "code",
   "source": "brainstate.environ.set(dt=0.1 * u.ms)",
   "id": "b3a689ad53875cc1",
   "outputs": [],
   "execution_count": 29
  },
  {
   "metadata": {},
   "cell_type": "markdown",
   "source": [
    "## Single node simulation\n",
    "\n",
    "\n",
    "We use the polynomial FitzHugh-Nagumo form implemented in BrainMass:\n",
    "\n",
    "$$\n",
    "\\begin{aligned}\n",
    "\\dot V &= -\\alpha V^{3} + \\beta V^{2} + \\gamma V - w + I_V(t), \\\n",
    "\\tau \\dot w &= V - \\delta - \\epsilon w + I_w(t).\n",
    "\\end{aligned}\n",
    "$$\n",
    "\n",
    "- $V$: activator (membrane-potential-like), $w$: slow recovery.\n",
    "- $\\alpha, \\beta, \\gamma, \\delta, \\epsilon$: dimensionless shape parameters; $\\tau$: time constant.\n",
    "- Units: right-hand sides have unit $1/\\mathrm{ms}$ in this implementation (consistent with brainunit).\n"
   ],
   "id": "a8ef0abc2db4c29"
  },
  {
   "metadata": {},
   "cell_type": "markdown",
   "source": "We instantiate one FHN node with OU noise on both E and I. The `step_run(i)` helper advances the model one time step with a proper `(i, t)` context. The node returns the current excitatory rate `rE`.",
   "id": "2ab6b1068d7564a5"
  },
  {
   "metadata": {},
   "cell_type": "code",
   "outputs": [],
   "execution_count": null,
   "source": [
    "node = brainmass.FitzHughNagumoModel(\n",
    "    1,\n",
    "    noise_V=brainmass.OUProcess(1, sigma=0.01),\n",
    "    noise_w=brainmass.OUProcess(1, sigma=0.01),\n",
    ")\n",
    "brainstate.nn.init_all_states(node)\n",
    "\n",
    "\n",
    "def step_run(i):\n",
    "    with brainstate.environ.context(i=i, t=i * brainstate.environ.get_dt()):\n",
    "        node.update()\n",
    "        return node.V.value, node.w.value\n",
    "\n",
    "\n",
    "indices = np.arange(10000)\n",
    "vs, ws = brainstate.transform.for_loop(step_run, indices)"
   ],
   "id": "b073d17f33b533c"
  },
  {
   "metadata": {},
   "cell_type": "markdown",
   "source": "The trace below shows `rE(t)` over time. With small noise and constant drive, the oscillator may settle to a fixed point or a limit cycle depending on parameters.",
   "id": "48988fde64497d7"
  },
  {
   "metadata": {},
   "cell_type": "code",
   "outputs": [],
   "execution_count": null,
   "source": [
    "plt.plot(indices * brainstate.environ.get_dt(), vs, lw=2, label='V')\n",
    "plt.plot(indices * brainstate.environ.get_dt(), ws, lw=2, label='W')\n",
    "plt.xlabel(\"t [ms]\")\n",
    "plt.ylabel(\"Activity\")\n",
    "plt.legend()\n",
    "plt.show()"
   ],
   "id": "65f6b019504d17c5"
  },
  {
   "metadata": {},
   "cell_type": "markdown",
   "source": [
    "## Bifurcation diagram\n",
    "\n",
    "Let's draw a simple one-dimensional bifurcation diagram of this model to orient ourselves in the parameter space.\n"
   ],
   "id": "f79b0df2a5340799"
  },
  {
   "metadata": {},
   "cell_type": "code",
   "outputs": [],
   "execution_count": null,
   "source": [
    "# these are the different input values that we want to scan\n",
    "exc_inputs = np.linspace(0, 2, 50)"
   ],
   "id": "c7b743d8d87235e2"
  },
  {
   "metadata": {},
   "cell_type": "code",
   "outputs": [],
   "execution_count": null,
   "source": [
    "nodes = brainmass.FitzHughNagumoModel(exc_inputs.size)\n",
    "brainstate.nn.init_all_states(nodes)\n",
    "\n",
    "\n",
    "def step_run(i):\n",
    "    with brainstate.environ.context(i=i, t=i * brainstate.environ.get_dt()):\n",
    "        return nodes.update(exc_inputs)\n",
    "\n",
    "\n",
    "indices = np.arange(10000)\n",
    "exec_activity = brainstate.transform.for_loop(step_run, indices)\n",
    "exec_activity = exec_activity[1000:]  # discard initial transient"
   ],
   "id": "49085d668b21fcf0"
  },
  {
   "metadata": {},
   "cell_type": "code",
   "outputs": [],
   "execution_count": null,
   "source": [
    "max_exc = exec_activity.max(axis=0)\n",
    "min_exc = exec_activity.min(axis=0)"
   ],
   "id": "43f42182cb5cbf77"
  },
  {
   "metadata": {},
   "cell_type": "markdown",
   "source": "The resulting diagram shows how steady‑state activity or oscillation amplitude varies with the external excitatory drive.",
   "id": "b9708d4ff7773e93"
  },
  {
   "metadata": {},
   "cell_type": "code",
   "outputs": [],
   "execution_count": null,
   "source": [
    "plt.plot(exc_inputs, max_exc, c='k', lw=2)\n",
    "plt.plot(exc_inputs, min_exc, c='k', lw=2)\n",
    "plt.title(\"Bifurcation diagram of the Wilson-Cowan model\")\n",
    "plt.xlabel(\"Input to exc\")\n",
    "plt.ylabel(\"Min / max exc\")\n",
    "plt.show()"
   ],
   "id": "6dc786d33a85f481"
  },
  {
   "metadata": {},
   "cell_type": "markdown",
   "source": [
    "## Load HCP connectome data\n",
    "\n",
    "Let's load a sample of Human connectome data from Kaggle. This includes structural connectivity (`Cmat`) and distance (`Dmat`) matrices for 80 brain regions."
   ],
   "id": "f5b15e7ff4c79b79"
  },
  {
   "metadata": {},
   "cell_type": "code",
   "outputs": [],
   "execution_count": null,
   "source": [
    "import os.path\n",
    "import kagglehub\n",
    "\n",
    "path = kagglehub.dataset_download(\"oujago/hcp-gw-data-samples\")\n",
    "data = braintools.file.msgpack_load(os.path.join(path, \"hcp-data-sample.msgpack\"))"
   ],
   "id": "2c7cf8f0b9e0dac0"
  },
  {
   "metadata": {},
   "cell_type": "markdown",
   "source": [
    "## Brain network\n",
    "\n",
    "\n",
    "For $N$ nodes with states $(V_i, w_i)$, a common diffusive coupling on $V$ is:\n",
    "\n",
    "$$\n",
    "\\begin{aligned}\n",
    "\\dot V_i &= f(V_i, w_i) + K \\sum_j W_{ij}(V_j - V_i) + I_i^V(t), \\\n",
    "\\tau \\dot w_i &= g(V_i, w_i) + I_i^w(t),\n",
    "\\end{aligned}\n",
    "$$\n",
    "\n",
    "Here $W$ is the connectivity and $K$ a global gain. In BrainMass, you can assemble this using `brainmass.diffusive_coupling` with prefetches for the $V$ variables, or the module `DiffusiveCoupling`.\n",
    "\n",
    "Relation to phase models: near a stable limit cycle (if parameters permit), the dynamics can be approximated by phase-only coupling (Kuramoto-type).\n"
   ],
   "id": "2d3debe488042f4c"
  },
  {
   "metadata": {},
   "cell_type": "code",
   "outputs": [],
   "execution_count": null,
   "source": [
    "class Network(brainstate.nn.Module):\n",
    "    def __init__(self, signal_speed=2., k=1.):\n",
    "        super().__init__()\n",
    "\n",
    "        conn_weight = data['Cmat'].copy()\n",
    "        np.fill_diagonal(conn_weight, 0)\n",
    "\n",
    "        delay_time = data['Dmat'].copy() / signal_speed\n",
    "        np.fill_diagonal(delay_time, 0)\n",
    "        indices_ = np.arange(conn_weight.shape[1])\n",
    "        indices_ = np.tile(np.expand_dims(indices_, axis=0), (conn_weight.shape[0], 1))\n",
    "\n",
    "        n_node = conn_weight.shape[0]\n",
    "\n",
    "        self.node = brainmass.FitzHughNagumoModel(\n",
    "            n_node,\n",
    "            noise_V=brainmass.OUProcess(n_node, sigma=0.01),\n",
    "            noise_w=brainmass.OUProcess(n_node, sigma=0.01),\n",
    "        )\n",
    "        self.coupling = brainmass.DiffusiveCoupling(\n",
    "            self.node.prefetch_delay('V', (delay_time * u.ms, indices_), init=brainstate.init.Uniform(0, 0.05)),\n",
    "            self.node.prefetch('V'),\n",
    "            conn_weight,\n",
    "            k=k  # set the global coupling strength of the brain network\n",
    "        )\n",
    "\n",
    "    def update(self):\n",
    "        current = self.coupling()\n",
    "        # let's put all nodes close to the limit cycle such that\n",
    "        # noise can kick them in and out of the oscillation\n",
    "        # all nodes get the same constant input\n",
    "        rE = self.node(V_inp=current + 0.72)\n",
    "        return rE\n",
    "\n",
    "    def step_run(self, i):\n",
    "        with brainstate.environ.context(i=i, t=i * brainstate.environ.get_dt()):\n",
    "            return self.update()"
   ],
   "id": "e48428fa67e347d5"
  },
  {
   "metadata": {},
   "cell_type": "code",
   "outputs": [],
   "execution_count": null,
   "source": [
    "dt = brainstate.environ.get_dt()\n",
    "\n",
    "net = Network()\n",
    "brainstate.nn.init_all_states(net)\n",
    "indices = np.arange(0, int(6 * u.second / dt))\n",
    "exes = brainstate.transform.for_loop(net.step_run, indices)"
   ],
   "id": "2e1feb67b1895e76"
  },
  {
   "metadata": {},
   "cell_type": "markdown",
   "source": "We compute functional connectivity (pairwise correlation) from the simulated `rE` matrix and plot it alongside sample time series. Stronger structure‑function correspondence typically emerges around specific `k` and delay regimes.",
   "id": "b00e154ceae8319a"
  },
  {
   "metadata": {},
   "cell_type": "code",
   "outputs": [],
   "execution_count": null,
   "source": [
    "fig, gs = braintools.visualize.get_figure(1, 2, 4, 6)\n",
    "ax1 = fig.add_subplot(gs[0, 0])\n",
    "fc = braintools.metric.functional_connectivity(exes)\n",
    "ax = ax1.imshow(fc)\n",
    "plt.colorbar(ax, ax=ax1)\n",
    "ax2 = fig.add_subplot(gs[0, 1])\n",
    "ax2.plot(indices, exes[:, ::5], alpha=0.8)\n",
    "plt.show()"
   ],
   "id": "17a91029b4fa04af"
  },
  {
   "metadata": {},
   "cell_type": "code",
   "outputs": [],
   "execution_count": null,
   "source": "",
   "id": "b6254672301d1dda"
  }
 ],
 "metadata": {
  "kernelspec": {
   "display_name": "Python 3",
   "language": "python",
   "name": "python3"
  },
  "language_info": {
   "codemirror_mode": {
    "name": "ipython",
    "version": 2
   },
   "file_extension": ".py",
   "mimetype": "text/x-python",
   "name": "python",
   "nbconvert_exporter": "python",
   "pygments_lexer": "ipython2",
   "version": "2.7.6"
  }
 },
 "nbformat": 4,
 "nbformat_minor": 5
}
