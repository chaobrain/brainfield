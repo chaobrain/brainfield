{
 "cells": [
  {
   "metadata": {},
   "cell_type": "markdown",
   "source": [
    "# MoMi 2023 reproduction example (TMS-EEG evoked responses)\n",
    "\n",
    "This example reproduces the main simulation and fitting steps from:\n",
    "\n",
    "- Momi D, Wang Z, Griffiths JD. 2023. TMS-EEG evoked responses are driven by\n",
    "  recurrent large-scale network dynamics. eLife 12:e83232.\n",
    "\n",
    "**Overview**\n",
    "\n",
    "- Loads structural connectivity (SC), inter-regional distances, leadfield, and EEG.\n",
    "- Builds a whole-brain network of Jansen–Rit neural masses with delayed coupling.\n",
    "- Projects simulated source activity to EEG via a leadfield and fits model\n",
    "  parameters to empirical data using gradient-based optimization.\n",
    "- Reports functional connectivity correlations and cosine similarity during train/test.\n",
    "\n",
    "**Data Dependencies**\n",
    "\n",
    "Create a folder named `reproduce_Momi_et_al_2022` alongside this file, then place:\n",
    "1) Required data from:\n",
    "   https://drive.google.com/drive/folders/1iwsxrmu_rnDCvKNYDwTskkCNt709MPuF\n",
    "2) The `fsaverage` folder from:\n",
    "   https://drive.google.com/drive/folders/1YPyf3h9YKnZi0zRwBwolROQuqDtxEfzF?usp=sharing\n",
    "3) Individual leadfield matrices from:\n",
    "   https://drive.google.com/drive/folders/11jOvrzupbm2W8QdKTa9gPeG2Ivk4BdMN?usp=sharing\n",
    "\n",
    "Make sure to update `files_dir` below if your paths differ.\n",
    "\n",
    "**Quickstart**\n",
    "\n",
    "- Ensure `brainstate`, `brainunit`, `brainmass`, and `braintools` are installed.\n",
    "- Set the simulation step with `brainstate.environ.set(dt=...)` (already done here).\n",
    "- Run `train_one_subject(0)` at the bottom to fit and evaluate a single subject.\n",
    "\n",
    "**Notes on Units**\n",
    "\n",
    "This script uses `brainunit` to carry physical units at runtime. When passing\n",
    "arrays as inputs/parameters, ensure you attach appropriate units, e.g. `u.Hz`,\n",
    "`u.mV`, or `u.second`. The code frequently splits mantissa and unit internally\n",
    "to keep transforms numerically stable while preserving dimensions."
   ],
   "id": "b2fe7801b1e9d2cf"
  },
  {
   "metadata": {},
   "cell_type": "markdown",
   "source": [
    "## Data\n",
    "\n",
    "Create a folder named \"reproduce_Momi_et_al_2022\" in the same directory as this notebook.\n",
    "\n",
    "\n",
    "1. Download the required data folder at:\n",
    "\n",
    "https://drive.google.com/drive/folders/1iwsxrmu_rnDCvKNYDwTskkCNt709MPuF\n",
    "\n",
    "and move the data inside ``reproduce_Momi_et_al_2022`` directory.\n",
    "\n",
    "2. Download the fsaverage folder at:\n",
    "\n",
    "https://drive.google.com/drive/folders/1YPyf3h9YKnZi0zRwBwolROQuqDtxEfzF?usp=sharing\n",
    "\n",
    "and move the `fsaverage` folders inside ``reproduce_Momi_et_al_2022`` directory.\n",
    "\n",
    "\n",
    "3. Please download the individual leadfield matrix at:\n",
    "\n",
    "https://drive.google.com/drive/folders/11jOvrzupbm2W8QdKTa9gPeG2Ivk4BdMN?usp=sharing\n",
    "\n",
    "and replate the path in the ``reproduce_Momi_et_al_2022/leadfield_from_mne`` directory."
   ],
   "id": "1f6e95edde4b9f2c"
  },
  {
   "metadata": {},
   "cell_type": "markdown",
   "source": "## Models",
   "id": "1c16259107d2cd06"
  },
  {
   "metadata": {
    "ExecuteTime": {
     "end_time": "2025-09-15T05:25:25.115087Z",
     "start_time": "2025-09-15T05:25:22.127579Z"
    }
   },
   "cell_type": "code",
   "source": [
    "import functools\n",
    "from typing import Callable\n",
    "\n",
    "import brainstate\n",
    "import brainunit as u\n",
    "import jax.numpy as jnp\n",
    "import numpy as np\n",
    "import pandas as pd\n",
    "import scipy\n",
    "from sklearn.metrics.pairwise import cosine_similarity\n",
    "\n",
    "import brainmass\n",
    "import braintools\n",
    "import matplotlib.pyplot as plt\n"
   ],
   "id": "a2ec19ebfa971a33",
   "outputs": [],
   "execution_count": 1
  },
  {
   "metadata": {
    "ExecuteTime": {
     "end_time": "2025-09-15T05:25:25.126572Z",
     "start_time": "2025-09-15T05:25:25.122108Z"
    }
   },
   "cell_type": "code",
   "source": [
    "class Scale:\n",
    "    \"\"\"Smoothly saturating scaling nonlinearity with unit support.\n",
    "\n",
    "    Applies a pointwise nonlinearity `fn` (default: `tanh`) to the input after\n",
    "    scaling by `slope`, then rescales back by `slope`. If the input carries\n",
    "    `brainunit` units, they are preserved.\n",
    "\n",
    "    Parameters\n",
    "    ----------\n",
    "    slope : float\n",
    "        Controls the dynamic range; larger values reduce saturation.\n",
    "    fn : Callable, optional\n",
    "        Elementwise nonlinearity, defaults to `jax.numpy.tanh`.\n",
    "    \"\"\"\n",
    "    def __init__(self, slope: float, fn: Callable = jnp.tanh):\n",
    "        self.slope = slope\n",
    "        self.fn = fn\n",
    "\n",
    "    def __call__(self, x):\n",
    "        x, unit = u.split_mantissa_unit(x)\n",
    "        return u.maybe_decimal(self.slope * self.fn(x / self.slope) * unit)\n",
    "\n"
   ],
   "id": "637c5db8e3ed3305",
   "outputs": [],
   "execution_count": 2
  },
  {
   "metadata": {
    "ExecuteTime": {
     "end_time": "2025-09-15T05:25:25.137880Z",
     "start_time": "2025-09-15T05:25:25.133585Z"
    }
   },
   "cell_type": "code",
   "source": [
    "class Parameter(brainstate.ParamState, u.CustomArray):\n",
    "    \"\"\"Trainable parameter wrapper with bijective transform and unit support.\n",
    "\n",
    "    This wraps a raw parameter `value` with an optional `Transform` from\n",
    "    `braintools` (e.g., `SoftplusTransform`, `SigmoidTransform`) to ensure that\n",
    "    the parameter respects constraints (positivity, bounded range, etc.).\n",
    "\n",
    "    The `value` stored internally is in the transform's inverse space for\n",
    "    numerically stable optimization. The public `data` property applies the\n",
    "    forward transform, exposing the constrained value where appropriate.\n",
    "\n",
    "    Examples\n",
    "    --------\n",
    "    - Positive-only parameter: `Parameter(1.0 * u.Hz, SoftplusTransform(1e-3*u.Hz))`\n",
    "    - Bounded parameter: `Parameter(0.8, SigmoidTransform(lo=0.4, hi=1.2))`\n",
    "    \"\"\"\n",
    "    def __init__(\n",
    "        self,\n",
    "        value,\n",
    "        transform: braintools.Transform = braintools.IdentityTransform()\n",
    "    ):\n",
    "        value = transform.inverse(value)\n",
    "        super().__init__(value)\n",
    "        self.transform = transform\n",
    "\n",
    "    @property\n",
    "    def data(self):\n",
    "        return self.transform(self.value)\n",
    "\n",
    "    # @data.setter\n",
    "    # def data(self, v):\n",
    "    #     self.value = self.transform.inverse(v)\n",
    "\n"
   ],
   "id": "11c9ac5f7061b0ff",
   "outputs": [],
   "execution_count": 3
  },
  {
   "metadata": {
    "ExecuteTime": {
     "end_time": "2025-09-15T05:25:25.147283Z",
     "start_time": "2025-09-15T05:25:25.143891Z"
    }
   },
   "cell_type": "code",
   "source": [
    "class EEGLeadFieldModel(brainstate.nn.Module):\n",
    "    \"\"\"Linear EEG forward model.\n",
    "\n",
    "    Projects simulated source activity to sensor space using a leadfield matrix\n",
    "    `lm` and subtracts a per-channel shift/baseline `shift`.\n",
    "\n",
    "    Parameters\n",
    "    ----------\n",
    "    lm : ArrayLike\n",
    "        Leadfield matrix mapping sources -> sensors. Shape: [n_sources, n_sensors].\n",
    "    shift : ArrayLike\n",
    "        Baseline or DC offset per EEG channel. Shape: [n_sensors].\n",
    "    \"\"\"\n",
    "    def __init__(self, lm, shift):\n",
    "        super().__init__()\n",
    "        self.lm = lm\n",
    "        self.shift = shift\n",
    "\n",
    "    def update(self, x):\n",
    "        \"\"\"Apply forward model: source `x` to EEG, then subtract shift.\"\"\"\n",
    "        return x @ self.lm - self.shift\n",
    "\n"
   ],
   "id": "17b69cf72c0eebbf",
   "outputs": [],
   "execution_count": 4
  },
  {
   "metadata": {
    "ExecuteTime": {
     "end_time": "2025-09-15T05:25:25.164078Z",
     "start_time": "2025-09-15T05:25:25.153292Z"
    }
   },
   "cell_type": "code",
   "source": [
    "class Network(brainstate.nn.Module):\n",
    "    \"\"\"Whole-brain Jansen–Rit network with delayed coupling and EEG projection.\n",
    "\n",
    "    - Each node is a Jansen–Rit neural mass with parameters that can be\n",
    "      optimized via `Parameter` wrappers.\n",
    "    - Long-range coupling is derived from structural connectivity (SC), scaled\n",
    "      through a learned weight matrix and normalized for stability.\n",
    "    - Axonal conduction delays are computed from pairwise distances and a\n",
    "      lower-bound conduction velocity.\n",
    "    - Source activity is projected to EEG via an `EEGLeadFieldModel`.\n",
    "\n",
    "    Parameters\n",
    "    ----------\n",
    "    sc : ndarray\n",
    "        Structural connectivity matrix. Shape: [n_nodes, n_nodes].\n",
    "    dist : ndarray\n",
    "        Inter-node distances used to derive delays. Shape: [n_nodes, n_nodes].\n",
    "    lm : Quantity\n",
    "        Leadfield matrix, with appropriate units; sources -> sensors.\n",
    "    w_bb : ArrayLike\n",
    "        Effective log-weights; exponentiated and applied to SC in `effective_sc`.\n",
    "    lm_shift : ArrayLike\n",
    "        Per-channel EEG baseline shift.\n",
    "    gc : float\n",
    "        Global coupling gain.\n",
    "    Ae, Ai, be, bi, C, a1..a4, s_max, v0, r : various\n",
    "        Jansen–Rit model parameters. Can be wrapped in `Parameter` to learn.\n",
    "    std_in : Quantity\n",
    "        Input noise level to the excitatory population.\n",
    "    var_init, mom_init : Callable\n",
    "        Initializers for state variables and their velocities.\n",
    "    conduct_lb : float\n",
    "        Lower bound on conduction velocity (m/s) for computing delays.\n",
    "    \"\"\"\n",
    "    def __init__(\n",
    "        self,\n",
    "        sc: np.ndarray,\n",
    "        dist: np.ndarray,\n",
    "        lm: u.Quantity,\n",
    "        w_bb: brainstate.typing.ArrayLike,\n",
    "        lm_shift: brainstate.typing.ArrayLike,\n",
    "        gc=1e3,\n",
    "\n",
    "        # node parameters\n",
    "        Ae=3.25 * u.mV,  # Excitatory gain\n",
    "        Ai=22. * u.mV,  # Inhibitory gain\n",
    "        be=100. / u.second,  # Excit. time const\n",
    "        bi=50. / u.second,  # Inhib. time const.\n",
    "        C=135.,  # Connect. const.\n",
    "        a1=1.,  # Connect. param.\n",
    "        a2=0.8,  # Connect. param.\n",
    "        a3=0.25,  # Connect. param\n",
    "        a4=0.25,  # Connect. param.\n",
    "        s_max=5. * u.Hz,  # Max firing rate\n",
    "        v0=6. * u.mV,  # Firing threshold\n",
    "        r=0.56,\n",
    "        std_in=150. * u.Hz,\n",
    "        var_init: Callable = brainstate.init.Uniform(0., 5.0, unit=u.mV),\n",
    "        mom_init: Callable = brainstate.init.Uniform(0., 5.0, unit=u.mV / u.second),\n",
    "        conduct_lb: float = 1.5,  # lower bound for conduct velocity\n",
    "    ):\n",
    "        super().__init__()\n",
    "\n",
    "        self.w_bb = w_bb\n",
    "        self.sc = sc\n",
    "        self.gc = gc\n",
    "\n",
    "        self.hidden_size = sc.shape[0]\n",
    "        self.output_size = lm.shape[1]\n",
    "        delay_time = dist / conduct_lb * brainstate.environ.get_dt()\n",
    "        delay_indices = np.expand_dims(np.arange(self.hidden_size), axis=0)\n",
    "        delay_indices = np.tile(delay_indices, (self.hidden_size, 1))\n",
    "\n",
    "        self.node = brainmass.JansenRitModel(\n",
    "            in_size=sc.shape[0],\n",
    "            Ae=Ae,\n",
    "            Ai=Ai,\n",
    "            be=be,\n",
    "            bi=bi,\n",
    "            C=C,\n",
    "            a1=a1,\n",
    "            a2=a2,\n",
    "            a3=a3,\n",
    "            a4=a4,\n",
    "            s_max=s_max,\n",
    "            v0=v0,\n",
    "            r=r,\n",
    "            M_init=var_init,\n",
    "            E_init=var_init,\n",
    "            I_init=var_init,\n",
    "            Mv_init=mom_init,\n",
    "            Ev_init=mom_init,\n",
    "            Iv_init=mom_init,\n",
    "            noise_E=brainmass.GaussianNoise(sc.shape[0], sigma=std_in),\n",
    "            fr_scale=Scale(5e2),\n",
    "        )\n",
    "        self.delay_E = brainstate.nn.StateWithDelay(self.node, 'E', init=var_init)\n",
    "        self.delay_E.register_entry('d', delay_time, delay_indices)\n",
    "        self.leadfield = EEGLeadFieldModel(lm, lm_shift)\n",
    "\n",
    "    def effective_sc(self):\n",
    "        \"\"\"Compute the effective, symmetric, normalized coupling matrix.\n",
    "\n",
    "        Steps\n",
    "        -----\n",
    "        - Exponentiate learned log-weights and multiply by SC.\n",
    "        - Symmetrize via average with transpose and take `log1p`.\n",
    "        - Normalize by Frobenius norm to keep coupling well-scaled.\n",
    "        \"\"\"\n",
    "        w = u.math.exp(self.w_bb) * self.sc\n",
    "        w2 = u.math.log1p((w + w.T) / 2)\n",
    "        w_n = w2 / u.math.linalg.norm(w2)\n",
    "        return w_n\n",
    "\n",
    "    def update_step(self, conn, E_delayed_inp, E_inp):\n",
    "        \"\"\"Single integration step within a duration window.\n",
    "\n",
    "        Accumulates delayed inputs and global inhibitory feedback, then steps\n",
    "        the Jansen–Rit node dynamics.\n",
    "        \"\"\"\n",
    "        E_inp = E_inp + E_delayed_inp - self.gc * self.node.E.value * u.math.sum(conn, axis=1)\n",
    "        self.node(E_inp=E_inp)\n",
    "\n",
    "    def update_duration(self, conn, E_inp_duration, index):\n",
    "        \"\"\"Integrate a full duration segment for a given batch index.\n",
    "\n",
    "        Parameters\n",
    "        ----------\n",
    "        conn : Quantity\n",
    "            Effective coupling matrix with units [Hz/mV].\n",
    "        E_inp_duration : Quantity\n",
    "            Input over a duration. Shape: [n_time_per_duration, n_nodes].\n",
    "        index : int\n",
    "            Absolute starting time index of the duration (for state context).\n",
    "        \"\"\"\n",
    "        with brainstate.environ.context(i=index):\n",
    "            E_delayed_inp = brainmass.additive_coupling(self.delay_E.at('d'), conn, self.gc)\n",
    "            brainstate.transform.for_loop(\n",
    "                functools.partial(self.update_step, conn, E_delayed_inp),\n",
    "                E_inp_duration\n",
    "            )\n",
    "            self.delay_E.update(self.node.E.value)\n",
    "            return {\n",
    "                'M': self.node.M.value,\n",
    "                'I': self.node.I.value,\n",
    "                'E': self.node.E.value,\n",
    "                'Mv': self.node.Mv.value,\n",
    "                'Ev': self.node.Ev.value,\n",
    "                'Iv': self.node.Iv.value,\n",
    "                'eeg': self.leadfield(self.node.eeg()),\n",
    "            }\n",
    "\n",
    "    def update_batch(self, i_duration_start, E_inp_batch):\n",
    "        \"\"\"Integrate a batch of consecutive duration segments.\n",
    "\n",
    "        Parameters\n",
    "        ----------\n",
    "        i_duration_start : int\n",
    "            Absolute starting duration index for the batch.\n",
    "        E_inp_batch : Quantity\n",
    "            Batched input. Shape: [n_duration, n_time_per_duration, n_nodes].\n",
    "        \"\"\"\n",
    "        conn = self.effective_sc() * u.Hz / u.mV\n",
    "        return brainstate.transform.for_loop(\n",
    "            functools.partial(self.update_duration, conn),\n",
    "            E_inp_batch,\n",
    "            i_duration_start + np.arange(E_inp_batch.shape[0])\n",
    "        )\n",
    "\n"
   ],
   "id": "b74fc26b23dc6475",
   "outputs": [],
   "execution_count": 5
  },
  {
   "metadata": {},
   "cell_type": "markdown",
   "source": "## Trainer",
   "id": "859295a2744fbe7a"
  },
  {
   "metadata": {
    "ExecuteTime": {
     "end_time": "2025-09-15T05:25:25.183208Z",
     "start_time": "2025-09-15T05:25:25.170565Z"
    }
   },
   "cell_type": "code",
   "source": [
    "class ModelFitting:\n",
    "    \"\"\"Trainer for the whole-brain network using batched time windows.\n",
    "\n",
    "    Splits data into fixed-length duration segments and runs gradient-based\n",
    "    optimization over model parameters to match empirical EEG in sensor space.\n",
    "\n",
    "    Parameters\n",
    "    ----------\n",
    "    model : Network\n",
    "        The whole-brain model to train.\n",
    "    optimizer : brainstate.optim.Optimizer\n",
    "        Optimizer to update registered trainable parameters.\n",
    "    duration_per_batch : Quantity\n",
    "        Total simulated time per optimization batch (e.g., 50 ms).\n",
    "    time_per_duration : Quantity\n",
    "        Duration of a single integration window within a batch.\n",
    "    grad_clip : float\n",
    "        Gradient norm clipping value.\n",
    "    \"\"\"\n",
    "    def __init__(\n",
    "        self,\n",
    "        model: Network,\n",
    "        optimizer: brainstate.optim.Optimizer,\n",
    "        duration_per_batch: u.Quantity,\n",
    "        time_per_duration: u.Quantity,\n",
    "        grad_clip: float = 1.0,\n",
    "    ):\n",
    "        self.model = model\n",
    "        self.optimizer = optimizer\n",
    "        self.weights = self.model.states(brainstate.ParamState)\n",
    "        self.optimizer.register_trainable_weights(self.weights)\n",
    "        self.cost = DistCost()\n",
    "\n",
    "        dt = brainstate.environ.get_dt()\n",
    "        self.n_duration_per_batch = int(duration_per_batch / time_per_duration)\n",
    "        self.n_time_per_duration = int(time_per_duration / dt)\n",
    "        self.grad_clip = grad_clip\n",
    "\n",
    "    @brainstate.transform.jit(static_argnums=0)\n",
    "    def _batch_train(self, i_duration, inputs, targets):\n",
    "        \"\"\"Train on a single batch of duration segments.\n",
    "\n",
    "        inputs : [n_duration, n_time_per_duration, n_nodes]\n",
    "        targets: [n_duration, n_time_per_duration, n_channels]\n",
    "        Returns: (loss, outputs dict)\n",
    "        \"\"\"\n",
    "\n",
    "        def f_loss():\n",
    "            out = self.model.update_batch(i_duration, inputs)\n",
    "            loss_ = self.cost(out['eeg'], targets)\n",
    "            return loss_, out\n",
    "\n",
    "        f_grad = brainstate.transform.grad(f_loss, grad_states=self.weights, return_value=True, has_aux=True)\n",
    "        grads, loss, out_batch = f_grad()\n",
    "        grads = brainstate.functional.clip_grad_norm(grads, self.grad_clip)\n",
    "        # jax.debug.print(\"Gradients = {g}\", g=jax.tree.map(lambda x: jnp.max(jnp.abs(x)), grads))\n",
    "        self.optimizer.update(grads)\n",
    "        return loss, out_batch\n",
    "\n",
    "    def train(\n",
    "        self,\n",
    "        data: u.Quantity,\n",
    "        uuu: u.Quantity,\n",
    "        n_epoch: int,\n",
    "    ):\n",
    "        \"\"\"Train using the logic of `model_fit_LM.py` from the paper code.\n",
    "\n",
    "        Parameters\n",
    "        ----------\n",
    "        data : Quantity\n",
    "            Empirical EEG in sensor space. Shape: [n_time, n_channels].\n",
    "        uuu : Quantity\n",
    "            Input stimulation per node. Shape: [n_time, n_nodes].\n",
    "        n_epoch : int\n",
    "            Maximum number of epochs.\n",
    "        \"\"\"\n",
    "        brainstate.nn.init_all_states(self.model)\n",
    "\n",
    "        # define masks for getting lower triangle matrix\n",
    "        mask = np.tril_indices(self.model.hidden_size, -1)\n",
    "        mask_e = np.tril_indices(self.model.output_size, -1)\n",
    "\n",
    "        duration = self.n_duration_per_batch\n",
    "        num_batches = int(data.shape[0] / duration)\n",
    "\n",
    "        for i_epoch in range(n_epoch):\n",
    "            losses = []\n",
    "            output_eeg = []\n",
    "            for i_batch in range(num_batches):\n",
    "                inputs = uuu[i_batch * duration:(i_batch + 1) * duration]\n",
    "                targets = data[i_batch * duration:(i_batch + 1) * duration]\n",
    "                loss, out_batch = self._batch_train(i_batch, inputs, targets)\n",
    "                output_eeg.append(out_batch['eeg'])\n",
    "                losses.append(loss)\n",
    "\n",
    "            # Calculate metrics like model_fit_LM.py\n",
    "            fc = np.corrcoef(u.get_mantissa(data.T))\n",
    "            ts_sim = u.get_magnitude(u.math.concatenate(output_eeg, axis=0))\n",
    "            fc_sim = np.corrcoef(ts_sim[10:].T)  # Skip first 10 timepoints\n",
    "            corr = u.math.corrcoef(fc_sim[mask_e], fc[mask_e])[0, 1]\n",
    "            cos_sim = u.math.diag(cosine_similarity(ts_sim.T, u.get_magnitude(data.T))).mean()\n",
    "\n",
    "            print(\n",
    "                f'epoch {i_epoch}, '\n",
    "                f'loss = {np.mean(losses)}, '\n",
    "                f'pearson correlation = {corr}, '\n",
    "                f'cosine similarity = {cos_sim}'\n",
    "            )\n",
    "\n",
    "    @brainstate.transform.jit(static_argnums=0)\n",
    "    def _batch_predict(self, i_duration, inputs):\n",
    "        \"\"\"Forward-only prediction for a batch of duration segments.\n",
    "\n",
    "        inputs: [n_duration, n_time_per_duration, n_nodes]\n",
    "        \"\"\"\n",
    "        return self.model.update_batch(i_duration, inputs)\n",
    "\n",
    "    def test(\n",
    "        self,\n",
    "        uuu: u.Quantity,\n",
    "        base_batch_num: int = 20,\n",
    "        data: np.ndarray = None,\n",
    "    ):\n",
    "        \"\"\"Evaluate trained model, mirroring `model_fit_LM.py` behavior.\n",
    "\n",
    "        Parameters\n",
    "        ----------\n",
    "        uuu : Quantity\n",
    "            Input stimulation [n_time, n_nodes]. Baseline segments are added\n",
    "            internally for state warmup.\n",
    "        base_batch_num : int\n",
    "            Number of baseline batches (no stimulation) prepended before the\n",
    "            actual input, allowing network states to settle.\n",
    "        data : ndarray, optional\n",
    "            Empirical EEG [n_time, n_channels] to compute FC correlation and\n",
    "            cosine similarity against simulated outputs. If None, only\n",
    "            simulation is returned/printed.\n",
    "        \"\"\"\n",
    "        duration = self.n_duration_per_batch\n",
    "        transient_num = 10  # Skip first 10 timepoints like model_fit_LM.py\n",
    "\n",
    "        # Initialize model with specific initial conditions\n",
    "        brainstate.nn.init_all_states(self.model)\n",
    "\n",
    "        eeg_all = []\n",
    "\n",
    "        # Create extended input like model_fit_LM.py:\n",
    "        # u_hat has extra baseline batches + actual data\n",
    "        total_time_steps = base_batch_num * duration + uuu.shape[0]\n",
    "        u_hat = np.zeros((total_time_steps, *uuu.shape[1:])) * uuu.unit\n",
    "        u_hat[base_batch_num * duration:] = uuu  # Put actual input after baseline\n",
    "\n",
    "        # Calculate total number of batches (baseline + actual)\n",
    "        total_batches = int(total_time_steps / duration)\n",
    "\n",
    "        # Process in batches like model_fit_LM.py\n",
    "        for i_batch in range(total_batches):\n",
    "            start_idx = i_batch * duration\n",
    "            end_idx = (i_batch + 1) * duration\n",
    "\n",
    "            # Get batch input and reshape to [n_duration, n_time, n_input]\n",
    "            batch_input = u_hat[start_idx:end_idx]\n",
    "\n",
    "            # Run model prediction (no gradients needed for test)\n",
    "            out_batch = self._batch_predict(start_idx, batch_input)\n",
    "\n",
    "            # Only collect outputs after baseline batches (like model_fit_LM.py)\n",
    "            if i_batch >= base_batch_num:\n",
    "                eeg_all.append(out_batch['eeg'])\n",
    "\n",
    "        # Compute correlation metrics like model_fit_LM.py\n",
    "        if data is not None:\n",
    "            ts_sim = u.get_magnitude(u.math.concatenate(eeg_all, axis=0))\n",
    "            fc_sim = np.corrcoef(ts_sim[transient_num:].T)  # Skip transients\n",
    "            fc_emp = np.corrcoef(u.get_mantissa(data.T))\n",
    "\n",
    "            mask_e = np.tril_indices(self.model.output_size, -1)\n",
    "            corr = np.corrcoef(fc_sim[mask_e], fc_emp[mask_e])[0, 1]\n",
    "            cos_sim = np.diag(cosine_similarity(ts_sim.T, u.get_magnitude(data.T))).mean()\n",
    "            print(f'Test - Pearson correlation: {corr:.3f}, Cosine similarity: {cos_sim:.3f}')\n"
   ],
   "id": "1383d478d594ecd7",
   "outputs": [],
   "execution_count": 6
  },
  {
   "metadata": {},
   "cell_type": "markdown",
   "source": "## Loss Function",
   "id": "ac8d45ef98289756"
  },
  {
   "metadata": {
    "ExecuteTime": {
     "end_time": "2025-09-15T05:25:25.192264Z",
     "start_time": "2025-09-15T05:25:25.188215Z"
    }
   },
   "cell_type": "code",
   "source": [
    "class DistCost:\n",
    "    \"\"\"Root-mean-square distance in sensor space.\n",
    "\n",
    "    Returns an RMSE-like measure between simulated and empirical EEG\n",
    "    time-series. Units are stripped to compute the scalar distance on mantissas.\n",
    "    \"\"\"\n",
    "    def __call__(self, sim, emp):\n",
    "        return u.get_mantissa(u.math.sqrt(u.math.mean((sim - emp) ** 2)))\n",
    "\n"
   ],
   "id": "dfe12d1e80e145a9",
   "outputs": [],
   "execution_count": 7
  },
  {
   "metadata": {},
   "cell_type": "markdown",
   "source": "## Training",
   "id": "3619304f7a2238d9"
  },
  {
   "metadata": {
    "ExecuteTime": {
     "end_time": "2025-09-15T05:25:25.204865Z",
     "start_time": "2025-09-15T05:25:25.196784Z"
    }
   },
   "cell_type": "code",
   "source": [
    "files_dir = 'D:/codes/githubs/computational_neuroscience/PyTepFit/reproduce_Momi_et_al_2022'\n",
    "sc_file = files_dir + '/Schaefer2018_200Parcels_7Networks_count.csv'\n",
    "high_file = files_dir + '/only_high_trial.mat'\n",
    "dist_file = files_dir + '/Schaefer2018_200Parcels_7Networks_distance.csv'\n",
    "file_leadfield = files_dir + '/leadfield'\n",
    "file_eeg = files_dir + '/real_EEG'\n",
    "eeg = np.load(file_eeg, allow_pickle=True)\n",
    "eeg"
   ],
   "id": "77faf1e7a6a6abae",
   "outputs": [
    {
     "data": {
      "text/plain": [
       "array([[-0.04882562, -0.01855596,  0.0080311 , ...,  0.06746994,\n",
       "         0.07579786,  0.0950077 ],\n",
       "       [-0.05753722, -0.04972065, -0.05058948, ...,  0.12024794,\n",
       "         0.10780556,  0.09364477],\n",
       "       [-0.04663963, -0.02801384, -0.01127495, ...,  0.07189867,\n",
       "         0.07543082,  0.08844396],\n",
       "       ...,\n",
       "       [ 0.11301994,  0.13689921,  0.15957486, ..., -0.07983613,\n",
       "        -0.08232486, -0.09218773],\n",
       "       [ 0.05367654,  0.01649795, -0.01004933, ...,  0.05334642,\n",
       "         0.02660085, -0.00436937],\n",
       "       [ 0.01670002, -0.01413833, -0.03701906, ...,  0.04310367,\n",
       "         0.02319151,  0.0047153 ]], shape=(62, 2000))"
      ]
     },
     "execution_count": 8,
     "metadata": {},
     "output_type": "execute_result"
    }
   ],
   "execution_count": 8
  },
  {
   "metadata": {
    "ExecuteTime": {
     "end_time": "2025-09-15T05:25:25.232655Z",
     "start_time": "2025-09-15T05:25:25.227926Z"
    }
   },
   "cell_type": "code",
   "source": "eeg.shape",
   "id": "657e95ca7b66862c",
   "outputs": [
    {
     "data": {
      "text/plain": [
       "(62, 2000)"
      ]
     },
     "execution_count": 9,
     "metadata": {},
     "output_type": "execute_result"
    }
   ],
   "execution_count": 9
  },
  {
   "metadata": {
    "ExecuteTime": {
     "end_time": "2025-09-15T05:25:25.267749Z",
     "start_time": "2025-09-15T05:25:25.264155Z"
    }
   },
   "cell_type": "code",
   "source": "lm = np.load(file_leadfield, allow_pickle=True)",
   "id": "2e973c27bf92fba5",
   "outputs": [],
   "execution_count": 10
  },
  {
   "metadata": {
    "ExecuteTime": {
     "end_time": "2025-09-15T05:25:25.344213Z",
     "start_time": "2025-09-15T05:25:25.339553Z"
    }
   },
   "cell_type": "code",
   "source": "lm.shape",
   "id": "1d78bb2a33fe0017",
   "outputs": [
    {
     "data": {
      "text/plain": [
       "(62, 200)"
      ]
     },
     "execution_count": 11,
     "metadata": {},
     "output_type": "execute_result"
    }
   ],
   "execution_count": 11
  },
  {
   "metadata": {
    "ExecuteTime": {
     "end_time": "2025-09-15T05:25:26.417447Z",
     "start_time": "2025-09-15T05:25:25.896352Z"
    }
   },
   "cell_type": "code",
   "source": [
    "data_high = scipy.io.loadmat(high_file)\n",
    "fig, ax = plt.subplots(1, 2)\n",
    "ax[0].plot(data_high['only_high_trial'][0].T)\n",
    "ax[1].plot(data_high['only_high_trial'][6].T)\n",
    "plt.show()"
   ],
   "id": "ba73609cf123d51d",
   "outputs": [
    {
     "data": {
      "text/plain": [
       "<Figure size 640x480 with 2 Axes>"
      ],
      "image/png": "[encoded data removed]"
     },
     "metadata": {},
     "output_type": "display_data",
     "jetTransient": {
      "display_id": null
     }
    }
   ],
   "execution_count": 12
  },
  {
   "metadata": {
    "ExecuteTime": {
     "end_time": "2025-09-15T05:25:35.676855Z",
     "start_time": "2025-09-15T05:25:35.672274Z"
    }
   },
   "cell_type": "code",
   "source": "data_high['only_high_trial'].shape",
   "id": "441859373eb7e66b",
   "outputs": [
    {
     "data": {
      "text/plain": [
       "(20, 62, 2000)"
      ]
     },
     "execution_count": 13,
     "metadata": {},
     "output_type": "execute_result"
    }
   ],
   "execution_count": 13
  },
  {
   "metadata": {
    "ExecuteTime": {
     "end_time": "2025-09-15T05:25:35.707295Z",
     "start_time": "2025-09-15T05:25:35.694865Z"
    }
   },
   "cell_type": "code",
   "source": [
    "sc_df = pd.read_csv(sc_file, header=None, sep=' ')\n",
    "sc = sc_df.values\n",
    "\n",
    "sc = 0.5 * (sc + sc.T)\n",
    "sc = np.log1p(sc) / np.linalg.norm(np.log1p(sc))"
   ],
   "id": "a93cff5946ef0ade",
   "outputs": [],
   "execution_count": 14
  },
  {
   "metadata": {
    "ExecuteTime": {
     "end_time": "2025-09-15T05:25:35.719675Z",
     "start_time": "2025-09-15T05:25:35.715550Z"
    }
   },
   "cell_type": "code",
   "source": "sc.shape",
   "id": "370d561cc197ef11",
   "outputs": [
    {
     "data": {
      "text/plain": [
       "(200, 200)"
      ]
     },
     "execution_count": 15,
     "metadata": {},
     "output_type": "execute_result"
    }
   ],
   "execution_count": 15
  },
  {
   "metadata": {
    "ExecuteTime": {
     "end_time": "2025-09-15T05:25:35.741362Z",
     "start_time": "2025-09-15T05:25:35.727683Z"
    }
   },
   "cell_type": "code",
   "source": [
    "dist_df = pd.read_csv(dist_file, header=None, sep=' ')\n",
    "dist = dist_df.values"
   ],
   "id": "483e56d9f2c97bf3",
   "outputs": [],
   "execution_count": 16
  },
  {
   "metadata": {
    "ExecuteTime": {
     "end_time": "2025-09-15T05:25:35.755299Z",
     "start_time": "2025-09-15T05:25:35.750528Z"
    }
   },
   "cell_type": "code",
   "source": "dist.shape",
   "id": "a8fbab28eff989fc",
   "outputs": [
    {
     "data": {
      "text/plain": [
       "(200, 200)"
      ]
     },
     "execution_count": 17,
     "metadata": {},
     "output_type": "execute_result"
    }
   ],
   "execution_count": 17
  },
  {
   "metadata": {
    "ExecuteTime": {
     "end_time": "2025-09-15T05:25:35.850708Z",
     "start_time": "2025-09-15T05:25:35.762316Z"
    }
   },
   "cell_type": "code",
   "source": [
    "stim_weights_file = files_dir + '/stim_weights.npy'\n",
    "stim_weights = np.load(stim_weights_file)\n",
    "\n",
    "plt.plot(stim_weights)\n",
    "plt.show()"
   ],
   "id": "9ee095cc610c54ee",
   "outputs": [
    {
     "data": {
      "text/plain": [
       "<Figure size 640x480 with 1 Axes>"
      ],
      "image/png": "[encoded data removed]"
     },
     "metadata": {},
     "output_type": "display_data",
     "jetTransient": {
      "display_id": null
     }
    }
   ],
   "execution_count": 18
  },
  {
   "metadata": {
    "ExecuteTime": {
     "end_time": "2025-09-15T05:25:35.864742Z",
     "start_time": "2025-09-15T05:25:35.860293Z"
    }
   },
   "cell_type": "code",
   "source": "stim_weights.shape",
   "id": "bc49b76c1d36692a",
   "outputs": [
    {
     "data": {
      "text/plain": [
       "(200,)"
      ]
     },
     "execution_count": 19,
     "metadata": {},
     "output_type": "execute_result"
    }
   ],
   "execution_count": 19
  },
  {
   "metadata": {
    "ExecuteTime": {
     "end_time": "2025-09-15T05:25:35.888467Z",
     "start_time": "2025-09-15T05:25:35.884752Z"
    }
   },
   "cell_type": "code",
   "source": [
    "node_size = stim_weights.shape[0]\n",
    "output_size = lm.shape[0]\n",
    "n_duration_per_batch = 50\n",
    "num_epoches = 120\n",
    "duration_length = 0.001 * u.second\n",
    "step_size = 0.0001 * u.second\n",
    "n_time_per_duration = int(duration_length / step_size)\n"
   ],
   "id": "d7c7dcaf1e539489",
   "outputs": [],
   "execution_count": 20
  },
  {
   "metadata": {
    "ExecuteTime": {
     "end_time": "2025-09-15T05:25:35.914493Z",
     "start_time": "2025-09-15T05:25:35.911156Z"
    }
   },
   "cell_type": "code",
   "source": "brainstate.environ.set(dt=step_size)",
   "id": "32dffbd0a82aaf3c",
   "outputs": [],
   "execution_count": 21
  },
  {
   "metadata": {
    "ExecuteTime": {
     "end_time": "2025-09-15T05:25:35.927529Z",
     "start_time": "2025-09-15T05:25:35.920537Z"
    }
   },
   "cell_type": "code",
   "source": [
    "def train_one_subject(sub_index):\n",
    "    \"\"\"Fit and evaluate the model for a single subject.\n",
    "\n",
    "    Steps\n",
    "    -----\n",
    "    1) Load subject-specific EEG and leadfield, center and scale leadfield.\n",
    "    2) Instantiate the whole-brain network with learnable parameters.\n",
    "    3) Optimize parameters using batched time windows and simple stimulation.\n",
    "    4) Evaluate Pearson FC correlation and cosine similarity on held-out data.\n",
    "\n",
    "    Parameters\n",
    "    ----------\n",
    "    sub_index : int\n",
    "        Zero-based subject index to select EEG and leadfield.\n",
    "    \"\"\"\n",
    "    print(f'sub: {sub_index}')\n",
    "    data_mean = np.array(data_high['only_high_trial'][sub_index]).T * u.mV\n",
    "    # data_mean: [n_time, n_channel], [2000, 62]\n",
    "\n",
    "    lm = np.load(f'{files_dir}/leadfield_from_mne/sub{str(sub_index + 1).zfill(3)}/leadfield.npy', allow_pickle=True)\n",
    "    lm = lm - u.math.mean(lm, axis=0, keepdims=True)\n",
    "    lm = lm.T * 0.0005\n",
    "\n",
    "    net = Network(\n",
    "        sc=sc,\n",
    "        w_bb=Parameter(sc + 0.05),\n",
    "        dist=dist,\n",
    "        lm=Parameter(lm),\n",
    "        lm_shift=Parameter(np.random.normal(2.0, 0.5, output_size) * u.mV),\n",
    "\n",
    "        # Ae=Parameter(3.25 * u.mV, braintools.SigmoidTransform(2 * u.mV, 10 * u.mV)),\n",
    "        # Ai=Parameter(22. * u.mV, braintools.SigmoidTransform(17.0 * u.mV, 110 * u.mV)),\n",
    "        # be=Parameter(100. * u.Hz, braintools.SigmoidTransform(5.0 * u.Hz, 150. * u.Hz)),\n",
    "        # bi=Parameter(50. * u.Hz, braintools.SigmoidTransform(25.0 * u.Hz, 75 * u.Hz)),\n",
    "        # a1=Parameter(1.0, braintools.SigmoidTransform(0.5, 1.5)),\n",
    "        # a2=Parameter(0.8, braintools.SigmoidTransform(0.4, 1.2)),\n",
    "        # a3=Parameter(0.25, braintools.SigmoidTransform(0.125, 0.375)),\n",
    "        # a4=Parameter(0.25, braintools.SigmoidTransform(0.125, 0.375)),\n",
    "        # gc=Parameter(1e3, braintools.SigmoidTransform(10, 2e3)),\n",
    "\n",
    "        Ae=Parameter(3.25 * u.mV, braintools.SoftplusTransform(1.0 * u.mV)),\n",
    "        Ai=Parameter(22. * u.mV, braintools.SoftplusTransform(1.0 * u.mV)),\n",
    "        be=Parameter(100. * u.Hz, braintools.SoftplusTransform(1.0 * u.Hz)),\n",
    "        bi=Parameter(50. * u.Hz, braintools.SoftplusTransform(1.0 * u.Hz)),\n",
    "        a1=Parameter(1.0, braintools.SoftplusTransform(0.01)),\n",
    "        a2=Parameter(0.8, braintools.SoftplusTransform(0.01)),\n",
    "        a3=Parameter(0.25, braintools.SoftplusTransform(0.01)),\n",
    "        a4=Parameter(0.25, braintools.SoftplusTransform(0.01)),\n",
    "        gc=Parameter(1e3, braintools.SoftplusTransform(1e2)),\n",
    "        std_in=Parameter(10 * u.Hz, braintools.SoftplusTransform(0.0 * u.Hz)),\n",
    "\n",
    "        # Ae=Parameter(3.25 * u.mV),\n",
    "        # Ai=Parameter(22. * u.mV),\n",
    "        # be=Parameter(100. * u.Hz),\n",
    "        # bi=Parameter(50. * u.Hz),\n",
    "        # a1=Parameter(1.0),\n",
    "        # a2=Parameter(0.8),\n",
    "        # a3=Parameter(0.25),\n",
    "        # a4=Parameter(0.25),\n",
    "        # gc=Parameter(1e3),\n",
    "\n",
    "        s_max=5.0 * u.Hz,\n",
    "        v0=6.0 * u.mV,\n",
    "        r=0.56,\n",
    "        conduct_lb=2.5,\n",
    "    )\n",
    "\n",
    "    fitter = ModelFitting(\n",
    "        net,\n",
    "        optimizer=brainstate.optim.Adam(5e-2),  # Match model_fit_LM.py learning rate\n",
    "        duration_per_batch=n_duration_per_batch * duration_length,\n",
    "        time_per_duration=duration_length,\n",
    "    )\n",
    "\n",
    "    # Create input stimulation like model_fit_LM.py: [n_time, n_nodes]\n",
    "    uuu = np.zeros((400, n_time_per_duration, node_size)) * u.Hz  # [n_time, n_nodes]\n",
    "    uuu[110:120] = 1000. * u.Hz  # Stimulation from time 110 to 120\n",
    "    uuu = uuu * stim_weights\n",
    "    fitter.train(data_mean[900:1300], uuu, n_epoch=100)\n",
    "\n",
    "    # Test with same stimulation\n",
    "    uuu_test = np.zeros((400, n_time_per_duration, node_size)) * u.Hz\n",
    "    uuu_test[110:120] = 1000. * u.Hz\n",
    "    uuu_test = uuu_test * stim_weights\n",
    "    fitter.test(uuu_test, base_batch_num=20, data=data_mean[900:1300])"
   ],
   "id": "444b276253b84562",
   "outputs": [],
   "execution_count": 22
  },
  {
   "metadata": {
    "ExecuteTime": {
     "end_time": "2025-09-15T05:26:03.965960Z",
     "start_time": "2025-09-15T05:25:35.932547Z"
    }
   },
   "cell_type": "code",
   "source": "train_one_subject(0)",
   "id": "f9717dc4f7de1912",
   "outputs": [
    {
     "name": "stdout",
     "output_type": "stream",
     "text": [
      "sub: 0\n",
      "epoch 0, loss = 460.078125, pearson correlation = 0.20935148000717163, cosine similarity = 0.04663469269871712\n",
      "epoch 1, loss = 38.834983825683594, pearson correlation = 0.13886907696723938, cosine similarity = 0.05299335718154907\n",
      "epoch 2, loss = 42.45254135131836, pearson correlation = 0.1607246696949005, cosine similarity = -0.025713831186294556\n",
      "epoch 3, loss = 67.21541595458984, pearson correlation = 0.11382129043340683, cosine similarity = 0.18167605996131897\n",
      "epoch 4, loss = 12.551870346069336, pearson correlation = 0.08443965762853622, cosine similarity = 0.037764620035886765\n",
      "epoch 5, loss = 7.842024803161621, pearson correlation = 0.0801437646150589, cosine similarity = -0.12780827283859253\n",
      "epoch 6, loss = 3.6760470867156982, pearson correlation = 0.05815885215997696, cosine similarity = 0.029248055070638657\n",
      "epoch 7, loss = 3.675583839416504, pearson correlation = 0.17223167419433594, cosine similarity = -0.039724159985780716\n",
      "epoch 8, loss = 2.2407851219177246, pearson correlation = 0.3815412223339081, cosine similarity = 0.10669519752264023\n",
      "epoch 9, loss = 2.1693973541259766, pearson correlation = 0.5966045260429382, cosine similarity = -0.07539717853069305\n",
      "epoch 10, loss = 2.5330915451049805, pearson correlation = 0.702248215675354, cosine similarity = 0.4146704375743866\n",
      "epoch 11, loss = 1.9150761365890503, pearson correlation = 0.7819492220878601, cosine similarity = 0.24020251631736755\n",
      "epoch 12, loss = 1.7589901685714722, pearson correlation = 0.875213623046875, cosine similarity = 0.3545433580875397\n",
      "epoch 13, loss = 1.630043864250183, pearson correlation = 0.8622666597366333, cosine similarity = 0.44312039017677307\n",
      "epoch 14, loss = 1.2902519702911377, pearson correlation = 0.905764102935791, cosine similarity = 0.6567996144294739\n",
      "epoch 15, loss = 1.678127408027649, pearson correlation = 0.8938936591148376, cosine similarity = 0.4753308892250061\n",
      "epoch 16, loss = 1.2402369976043701, pearson correlation = 0.8970421552658081, cosine similarity = 0.658736526966095\n",
      "epoch 17, loss = 1.4858907461166382, pearson correlation = 0.8900817036628723, cosine similarity = 0.514744758605957\n",
      "epoch 18, loss = 1.2646710872650146, pearson correlation = 0.9175955057144165, cosine similarity = 0.6166861653327942\n",
      "epoch 19, loss = 1.1469550132751465, pearson correlation = 0.931111752986908, cosine similarity = 0.6973172426223755\n",
      "epoch 20, loss = 1.1271333694458008, pearson correlation = 0.9218320250511169, cosine similarity = 0.7031664252281189\n",
      "epoch 21, loss = 1.0957993268966675, pearson correlation = 0.9342352151870728, cosine similarity = 0.7269209623336792\n",
      "epoch 22, loss = 1.0822529792785645, pearson correlation = 0.9341426491737366, cosine similarity = 0.7294157147407532\n",
      "epoch 23, loss = 1.0486299991607666, pearson correlation = 0.9419130086898804, cosine similarity = 0.7461492419242859\n",
      "epoch 24, loss = 1.042834997177124, pearson correlation = 0.9436110854148865, cosine similarity = 0.7507205605506897\n",
      "epoch 25, loss = 1.0235729217529297, pearson correlation = 0.9434148073196411, cosine similarity = 0.7526305317878723\n",
      "epoch 26, loss = 1.0228127241134644, pearson correlation = 0.9474239349365234, cosine similarity = 0.7574253082275391\n",
      "epoch 27, loss = 1.0096588134765625, pearson correlation = 0.9498682022094727, cosine similarity = 0.757673442363739\n",
      "epoch 28, loss = 1.00800621509552, pearson correlation = 0.9517660140991211, cosine similarity = 0.7597930431365967\n",
      "epoch 29, loss = 1.003027081489563, pearson correlation = 0.9543558955192566, cosine similarity = 0.7602328658103943\n",
      "epoch 30, loss = 0.9925557374954224, pearson correlation = 0.9539009928703308, cosine similarity = 0.7640825510025024\n",
      "epoch 31, loss = 0.9956909418106079, pearson correlation = 0.953754723072052, cosine similarity = 0.7633671164512634\n",
      "epoch 32, loss = 0.9906243681907654, pearson correlation = 0.958400309085846, cosine similarity = 0.7641669511795044\n",
      "epoch 33, loss = 0.9823325276374817, pearson correlation = 0.9572071433067322, cosine similarity = 0.7662428617477417\n",
      "epoch 34, loss = 0.9805811643600464, pearson correlation = 0.9618845582008362, cosine similarity = 0.7689323425292969\n",
      "epoch 35, loss = 0.9760584235191345, pearson correlation = 0.9609841704368591, cosine similarity = 0.7710848450660706\n",
      "epoch 36, loss = 0.9799038171768188, pearson correlation = 0.9622347950935364, cosine similarity = 0.7660280466079712\n",
      "epoch 37, loss = 0.9771465063095093, pearson correlation = 0.9601996541023254, cosine similarity = 0.7657375931739807\n",
      "epoch 38, loss = 0.9780392646789551, pearson correlation = 0.9628912210464478, cosine similarity = 0.7661314606666565\n",
      "epoch 39, loss = 0.9723007678985596, pearson correlation = 0.9596871137619019, cosine similarity = 0.7686859369277954\n",
      "epoch 40, loss = 0.9765411615371704, pearson correlation = 0.9678177833557129, cosine similarity = 0.7711189389228821\n",
      "epoch 41, loss = 0.9778217077255249, pearson correlation = 0.9624666571617126, cosine similarity = 0.7684937715530396\n",
      "epoch 42, loss = 0.9799141883850098, pearson correlation = 0.9646176695823669, cosine similarity = 0.7693541646003723\n",
      "epoch 43, loss = 0.9820650815963745, pearson correlation = 0.9625105857849121, cosine similarity = 0.769016683101654\n",
      "epoch 44, loss = 0.9689680337905884, pearson correlation = 0.9686534404754639, cosine similarity = 0.7745174169540405\n",
      "epoch 45, loss = 0.9660628437995911, pearson correlation = 0.9653347730636597, cosine similarity = 0.772808849811554\n",
      "epoch 46, loss = 0.9660567045211792, pearson correlation = 0.9646784067153931, cosine similarity = 0.7756131887435913\n",
      "epoch 47, loss = 0.9700758457183838, pearson correlation = 0.9638324975967407, cosine similarity = 0.7709097266197205\n",
      "epoch 48, loss = 0.9670799374580383, pearson correlation = 0.9650319218635559, cosine similarity = 0.7706681489944458\n",
      "epoch 49, loss = 0.9809748530387878, pearson correlation = 0.9662435054779053, cosine similarity = 0.7641389966011047\n",
      "epoch 50, loss = 0.9663341641426086, pearson correlation = 0.960629403591156, cosine similarity = 0.7754551768302917\n",
      "epoch 51, loss = 0.9810012578964233, pearson correlation = 0.9643913507461548, cosine similarity = 0.7643167972564697\n",
      "epoch 52, loss = 0.9632489681243896, pearson correlation = 0.9656313061714172, cosine similarity = 0.7791309952735901\n",
      "epoch 53, loss = 0.9830551743507385, pearson correlation = 0.9659417271614075, cosine similarity = 0.7695797085762024\n",
      "epoch 54, loss = 0.9562593102455139, pearson correlation = 0.9713268280029297, cosine similarity = 0.7807849645614624\n",
      "epoch 55, loss = 0.9610945582389832, pearson correlation = 0.9681789875030518, cosine similarity = 0.7764707803726196\n",
      "epoch 56, loss = 0.9508707523345947, pearson correlation = 0.9676812887191772, cosine similarity = 0.7824800610542297\n",
      "epoch 57, loss = 0.9590762257575989, pearson correlation = 0.9659099578857422, cosine similarity = 0.7792986035346985\n",
      "epoch 58, loss = 0.950607180595398, pearson correlation = 0.9687036275863647, cosine similarity = 0.7836951017379761\n",
      "epoch 59, loss = 0.9404427409172058, pearson correlation = 0.9690024256706238, cosine similarity = 0.7878236770629883\n",
      "epoch 60, loss = 0.9467188715934753, pearson correlation = 0.9678348898887634, cosine similarity = 0.7865883111953735\n",
      "epoch 61, loss = 0.9338783025741577, pearson correlation = 0.9676204919815063, cosine similarity = 0.788709819316864\n",
      "epoch 62, loss = 0.9426558613777161, pearson correlation = 0.9681475162506104, cosine similarity = 0.7861294746398926\n",
      "epoch 63, loss = 0.9312927722930908, pearson correlation = 0.9681034684181213, cosine similarity = 0.7954702973365784\n",
      "epoch 64, loss = 0.9392136335372925, pearson correlation = 0.9665543437004089, cosine similarity = 0.7885685563087463\n",
      "epoch 65, loss = 0.9404946565628052, pearson correlation = 0.9707847833633423, cosine similarity = 0.7882649302482605\n",
      "epoch 66, loss = 0.9457170963287354, pearson correlation = 0.968207061290741, cosine similarity = 0.7855997085571289\n",
      "epoch 67, loss = 0.9193094968795776, pearson correlation = 0.9693634510040283, cosine similarity = 0.8003143668174744\n",
      "epoch 68, loss = 0.9509888887405396, pearson correlation = 0.9667401313781738, cosine similarity = 0.7836621403694153\n",
      "epoch 69, loss = 0.9226319789886475, pearson correlation = 0.9712567925453186, cosine similarity = 0.7978132963180542\n",
      "epoch 70, loss = 0.9434856176376343, pearson correlation = 0.9716654419898987, cosine similarity = 0.7897156476974487\n",
      "epoch 71, loss = 0.9274834394454956, pearson correlation = 0.9705192446708679, cosine similarity = 0.7947222590446472\n",
      "epoch 72, loss = 0.9394351243972778, pearson correlation = 0.9724395275115967, cosine similarity = 0.7935757040977478\n",
      "epoch 73, loss = 0.9234650731086731, pearson correlation = 0.973380446434021, cosine similarity = 0.7973922491073608\n",
      "epoch 74, loss = 0.9199581146240234, pearson correlation = 0.9693453907966614, cosine similarity = 0.8025652170181274\n",
      "epoch 75, loss = 0.9311995506286621, pearson correlation = 0.971894383430481, cosine similarity = 0.7941218614578247\n",
      "epoch 76, loss = 0.9141228199005127, pearson correlation = 0.9730288982391357, cosine similarity = 0.8033686280250549\n",
      "epoch 77, loss = 0.919894278049469, pearson correlation = 0.9725896716117859, cosine similarity = 0.8004212975502014\n",
      "epoch 78, loss = 0.9162628650665283, pearson correlation = 0.9749816060066223, cosine similarity = 0.8029066324234009\n",
      "epoch 79, loss = 0.931593120098114, pearson correlation = 0.9708213806152344, cosine similarity = 0.7962139248847961\n",
      "epoch 80, loss = 0.9228572845458984, pearson correlation = 0.9704625606536865, cosine similarity = 0.7978593111038208\n",
      "epoch 81, loss = 0.9248545169830322, pearson correlation = 0.9719349145889282, cosine similarity = 0.8002700805664062\n",
      "epoch 82, loss = 0.9134628772735596, pearson correlation = 0.9731894135475159, cosine similarity = 0.8026841282844543\n",
      "epoch 83, loss = 0.9192500710487366, pearson correlation = 0.9736734628677368, cosine similarity = 0.8037289977073669\n",
      "epoch 84, loss = 0.9161226749420166, pearson correlation = 0.9712204337120056, cosine similarity = 0.80308997631073\n",
      "epoch 85, loss = 0.9100657105445862, pearson correlation = 0.9737509489059448, cosine similarity = 0.8075035214424133\n",
      "epoch 86, loss = 0.9090473651885986, pearson correlation = 0.972571849822998, cosine similarity = 0.809615433216095\n",
      "epoch 87, loss = 0.9032809734344482, pearson correlation = 0.9734324216842651, cosine similarity = 0.8103023171424866\n",
      "epoch 88, loss = 0.9133930802345276, pearson correlation = 0.9726829528808594, cosine similarity = 0.8057329654693604\n",
      "epoch 89, loss = 0.9039396047592163, pearson correlation = 0.9768406748771667, cosine similarity = 0.8116633296012878\n",
      "epoch 90, loss = 0.9098104238510132, pearson correlation = 0.9765164256095886, cosine similarity = 0.809390127658844\n",
      "epoch 91, loss = 0.9017931222915649, pearson correlation = 0.9730619788169861, cosine similarity = 0.8117777705192566\n",
      "epoch 92, loss = 0.9050760865211487, pearson correlation = 0.9783125519752502, cosine similarity = 0.8133082985877991\n",
      "epoch 93, loss = 0.9042232036590576, pearson correlation = 0.9745681881904602, cosine similarity = 0.8100758790969849\n",
      "epoch 94, loss = 0.8937870860099792, pearson correlation = 0.9758872985839844, cosine similarity = 0.8164153695106506\n",
      "epoch 95, loss = 0.8938025236129761, pearson correlation = 0.9769943952560425, cosine similarity = 0.8166880011558533\n",
      "epoch 96, loss = 0.902253270149231, pearson correlation = 0.971833348274231, cosine similarity = 0.8124796748161316\n",
      "epoch 97, loss = 0.9063717722892761, pearson correlation = 0.9775189161300659, cosine similarity = 0.8130552172660828\n",
      "epoch 98, loss = 0.9009135961532593, pearson correlation = 0.9761760830879211, cosine similarity = 0.8150090575218201\n",
      "epoch 99, loss = 0.8986712694168091, pearson correlation = 0.9789887070655823, cosine similarity = 0.8164442777633667\n",
      "Test - Pearson correlation: 0.945, Cosine similarity: 0.494\n"
     ]
    }
   ],
   "execution_count": 23
  }
 ],
 "metadata": {
  "kernelspec": {
   "name": "python3",
   "language": "python",
   "display_name": "Python 3 (ipykernel)"
  }
 },
 "nbformat": 4,
 "nbformat_minor": 5
}
